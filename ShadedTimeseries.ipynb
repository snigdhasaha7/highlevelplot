{
 "cells": [
  {
   "cell_type": "code",
   "execution_count": 1,
   "id": "7c6e0208",
   "metadata": {},
   "outputs": [],
   "source": [
    "import matplotlib.pyplot as plt\n",
    "import pandas as pd\n",
    "import seaborn as sns\n",
    "import numpy as np\n",
    "from os import listdir, path"
   ]
  },
  {
   "cell_type": "code",
   "execution_count": 2,
   "id": "5039d5f7",
   "metadata": {},
   "outputs": [],
   "source": [
    "# video length in seconds\n",
    "upperbound = 1255"
   ]
  },
  {
   "cell_type": "code",
   "execution_count": 3,
   "id": "339be276",
   "metadata": {},
   "outputs": [],
   "source": [
    "# organize the data by folder - all the files for one plot\n",
    "# should be in one folder\n",
    "folder = 'data_exp_42502-v4'\n",
    "dfs = []\n",
    "for file in listdir(folder):\n",
    "    if not file.endswith('.csv'):\n",
    "        continue\n",
    "    df = pd.read_csv(path.join(folder, file))\n",
    "    dfs.append(df)"
   ]
  },
  {
   "cell_type": "code",
   "execution_count": 4,
   "id": "0143d223",
   "metadata": {},
   "outputs": [],
   "source": [
    "# write a docstring here\n",
    "def clean(df):\n",
    "    df1 = df[['Trial Number', 'Zone Name', 'Reaction Time', 'Response']]\n",
    "    for i in range(1, len(df1['Response'])):\n",
    "        if pd.isnull(df1['Response'][i]):\n",
    "            df1['Response'][i] = 0\n",
    "        \n",
    "    # getting rid of non-slider rows \n",
    "    dropped = []\n",
    "    for i in range(len(df1)):\n",
    "        if df1['Zone Name'][i] != 'slider' or pd.isnull(df1['Reaction Time'][i]):\n",
    "            #print(f'{i} row')\n",
    "            dropped.append(i)\n",
    "            df1 = df1.drop(labels=i)\n",
    "    \n",
    "    adder = 0\n",
    "    for i in range(len(df)):\n",
    "        if i in dropped:\n",
    "            continue\n",
    "        #print(adder)\n",
    "        df1['Reaction Time'][i] += adder\n",
    "        j = i + 1\n",
    "        while j != len(df) - 1 and j in dropped:\n",
    "            j += 1\n",
    "\n",
    "        if j not in dropped and df1['Trial Number'][i] != df1['Trial Number'][j]:\n",
    "            adder = df1['Reaction Time'][i]\n",
    "    \n",
    "    for i in range(len(df)):\n",
    "        if i in dropped:\n",
    "            continue\n",
    "        df1['Reaction Time'][i] /= 1000\n",
    "    \n",
    "    # reindexing\n",
    "    reaction_times = []\n",
    "    responses = []\n",
    "    for i in range(len(df)):\n",
    "        if i in dropped:\n",
    "            continue\n",
    "        reaction_times.append(df1['Reaction Time'][i])\n",
    "        responses.append(df1['Response'][i])\n",
    "    \n",
    "    data = {'Reaction Time': reaction_times,\n",
    "           'Response': responses}\n",
    "    df1 = pd.DataFrame(data)\n",
    "    \n",
    "    return df1"
   ]
  },
  {
   "cell_type": "code",
   "execution_count": 5,
   "id": "287ef808",
   "metadata": {},
   "outputs": [
    {
     "name": "stderr",
     "output_type": "stream",
     "text": [
      "C:\\Users\\snigd\\anaconda3\\lib\\site-packages\\ipykernel_launcher.py:6: SettingWithCopyWarning: \n",
      "A value is trying to be set on a copy of a slice from a DataFrame\n",
      "\n",
      "See the caveats in the documentation: https://pandas.pydata.org/pandas-docs/stable/user_guide/indexing.html#returning-a-view-versus-a-copy\n",
      "  \n",
      "C:\\Users\\snigd\\anaconda3\\lib\\site-packages\\ipykernel_launcher.py:3: SettingWithCopyWarning: \n",
      "A value is trying to be set on a copy of a slice from a DataFrame\n",
      "\n",
      "See the caveats in the documentation: https://pandas.pydata.org/pandas-docs/stable/user_guide/indexing.html#returning-a-view-versus-a-copy\n",
      "  This is separate from the ipykernel package so we can avoid doing imports until\n",
      "C:\\Users\\snigd\\anaconda3\\lib\\site-packages\\ipykernel_launcher.py:21: SettingWithCopyWarning: \n",
      "A value is trying to be set on a copy of a slice from a DataFrame\n",
      "\n",
      "See the caveats in the documentation: https://pandas.pydata.org/pandas-docs/stable/user_guide/indexing.html#returning-a-view-versus-a-copy\n",
      "C:\\Users\\snigd\\anaconda3\\lib\\site-packages\\ipykernel_launcher.py:32: SettingWithCopyWarning: \n",
      "A value is trying to be set on a copy of a slice from a DataFrame\n",
      "\n",
      "See the caveats in the documentation: https://pandas.pydata.org/pandas-docs/stable/user_guide/indexing.html#returning-a-view-versus-a-copy\n"
     ]
    }
   ],
   "source": [
    "clean_dfs = []\n",
    "for df in dfs:\n",
    "    df1 = clean(df)\n",
    "    clean_dfs.append(df1)"
   ]
  },
  {
   "cell_type": "code",
   "execution_count": 7,
   "id": "37607168",
   "metadata": {},
   "outputs": [
    {
     "data": {
      "text/html": [
       "<div>\n",
       "<style scoped>\n",
       "    .dataframe tbody tr th:only-of-type {\n",
       "        vertical-align: middle;\n",
       "    }\n",
       "\n",
       "    .dataframe tbody tr th {\n",
       "        vertical-align: top;\n",
       "    }\n",
       "\n",
       "    .dataframe thead th {\n",
       "        text-align: right;\n",
       "    }\n",
       "</style>\n",
       "<table border=\"1\" class=\"dataframe\">\n",
       "  <thead>\n",
       "    <tr style=\"text-align: right;\">\n",
       "      <th></th>\n",
       "      <th>Reaction Time</th>\n",
       "      <th>Response</th>\n",
       "    </tr>\n",
       "  </thead>\n",
       "  <tbody>\n",
       "    <tr>\n",
       "      <th>0</th>\n",
       "      <td>0.000000</td>\n",
       "      <td>0.0</td>\n",
       "    </tr>\n",
       "    <tr>\n",
       "      <th>1</th>\n",
       "      <td>19.579411</td>\n",
       "      <td>12.0</td>\n",
       "    </tr>\n",
       "    <tr>\n",
       "      <th>2</th>\n",
       "      <td>23.568452</td>\n",
       "      <td>29.0</td>\n",
       "    </tr>\n",
       "    <tr>\n",
       "      <th>3</th>\n",
       "      <td>24.083703</td>\n",
       "      <td>49.0</td>\n",
       "    </tr>\n",
       "    <tr>\n",
       "      <th>4</th>\n",
       "      <td>29.585256</td>\n",
       "      <td>56.0</td>\n",
       "    </tr>\n",
       "    <tr>\n",
       "      <th>...</th>\n",
       "      <td>...</td>\n",
       "      <td>...</td>\n",
       "    </tr>\n",
       "    <tr>\n",
       "      <th>230</th>\n",
       "      <td>1238.480089</td>\n",
       "      <td>55.0</td>\n",
       "    </tr>\n",
       "    <tr>\n",
       "      <th>231</th>\n",
       "      <td>1238.978761</td>\n",
       "      <td>26.0</td>\n",
       "    </tr>\n",
       "    <tr>\n",
       "      <th>232</th>\n",
       "      <td>1239.477393</td>\n",
       "      <td>0.0</td>\n",
       "    </tr>\n",
       "    <tr>\n",
       "      <th>233</th>\n",
       "      <td>1251.976261</td>\n",
       "      <td>22.0</td>\n",
       "    </tr>\n",
       "    <tr>\n",
       "      <th>234</th>\n",
       "      <td>1256.880330</td>\n",
       "      <td>22.0</td>\n",
       "    </tr>\n",
       "  </tbody>\n",
       "</table>\n",
       "<p>235 rows × 2 columns</p>\n",
       "</div>"
      ],
      "text/plain": [
       "     Reaction Time  Response\n",
       "0         0.000000       0.0\n",
       "1        19.579411      12.0\n",
       "2        23.568452      29.0\n",
       "3        24.083703      49.0\n",
       "4        29.585256      56.0\n",
       "..             ...       ...\n",
       "230    1238.480089      55.0\n",
       "231    1238.978761      26.0\n",
       "232    1239.477393       0.0\n",
       "233    1251.976261      22.0\n",
       "234    1256.880330      22.0\n",
       "\n",
       "[235 rows x 2 columns]"
      ]
     },
     "execution_count": 7,
     "metadata": {},
     "output_type": "execute_result"
    }
   ],
   "source": [
    "clean_dfs[0]"
   ]
  },
  {
   "cell_type": "code",
   "execution_count": 60,
   "id": "24ad35a4",
   "metadata": {},
   "outputs": [
    {
     "data": {
      "text/html": [
       "<div>\n",
       "<style scoped>\n",
       "    .dataframe tbody tr th:only-of-type {\n",
       "        vertical-align: middle;\n",
       "    }\n",
       "\n",
       "    .dataframe tbody tr th {\n",
       "        vertical-align: top;\n",
       "    }\n",
       "\n",
       "    .dataframe thead th {\n",
       "        text-align: right;\n",
       "    }\n",
       "</style>\n",
       "<table border=\"1\" class=\"dataframe\">\n",
       "  <thead>\n",
       "    <tr style=\"text-align: right;\">\n",
       "      <th></th>\n",
       "      <th>Reaction Time</th>\n",
       "      <th>Response</th>\n",
       "    </tr>\n",
       "  </thead>\n",
       "  <tbody>\n",
       "    <tr>\n",
       "      <th>0</th>\n",
       "      <td>0.000000</td>\n",
       "      <td>0.0</td>\n",
       "    </tr>\n",
       "    <tr>\n",
       "      <th>1</th>\n",
       "      <td>133.661600</td>\n",
       "      <td>1.0</td>\n",
       "    </tr>\n",
       "    <tr>\n",
       "      <th>2</th>\n",
       "      <td>141.995600</td>\n",
       "      <td>8.0</td>\n",
       "    </tr>\n",
       "    <tr>\n",
       "      <th>3</th>\n",
       "      <td>150.329600</td>\n",
       "      <td>11.0</td>\n",
       "    </tr>\n",
       "    <tr>\n",
       "      <th>4</th>\n",
       "      <td>242.003600</td>\n",
       "      <td>20.0</td>\n",
       "    </tr>\n",
       "    <tr>\n",
       "      <th>...</th>\n",
       "      <td>...</td>\n",
       "      <td>...</td>\n",
       "    </tr>\n",
       "    <tr>\n",
       "      <th>145</th>\n",
       "      <td>20320.590500</td>\n",
       "      <td>30.0</td>\n",
       "    </tr>\n",
       "    <tr>\n",
       "      <th>146</th>\n",
       "      <td>20345.592500</td>\n",
       "      <td>44.0</td>\n",
       "    </tr>\n",
       "    <tr>\n",
       "      <th>147</th>\n",
       "      <td>20920.519550</td>\n",
       "      <td>50.0</td>\n",
       "    </tr>\n",
       "    <tr>\n",
       "      <th>148</th>\n",
       "      <td>20928.853550</td>\n",
       "      <td>58.0</td>\n",
       "    </tr>\n",
       "    <tr>\n",
       "      <th>149</th>\n",
       "      <td>20971.302333</td>\n",
       "      <td>58.0</td>\n",
       "    </tr>\n",
       "  </tbody>\n",
       "</table>\n",
       "<p>150 rows × 2 columns</p>\n",
       "</div>"
      ],
      "text/plain": [
       "     Reaction Time  Response\n",
       "0         0.000000       0.0\n",
       "1       133.661600       1.0\n",
       "2       141.995600       8.0\n",
       "3       150.329600      11.0\n",
       "4       242.003600      20.0\n",
       "..             ...       ...\n",
       "145   20320.590500      30.0\n",
       "146   20345.592500      44.0\n",
       "147   20920.519550      50.0\n",
       "148   20928.853550      58.0\n",
       "149   20971.302333      58.0\n",
       "\n",
       "[150 rows x 2 columns]"
      ]
     },
     "execution_count": 60,
     "metadata": {},
     "output_type": "execute_result"
    }
   ],
   "source": [
    "clean_dfs[2]"
   ]
  },
  {
   "cell_type": "code",
   "execution_count": 30,
   "id": "8b9f4e89",
   "metadata": {},
   "outputs": [],
   "source": [
    "modified_dfs = []\n",
    "# upperbound should be the maximum length of the video\n",
    "for k in range(len(clean_dfs)):\n",
    "    list_of_zeros = [0] * (int(upperbound))\n",
    "    data = {'Reaction Time': range(0, int(upperbound)),\n",
    "           'Response':  list_of_zeros}\n",
    "    df2 = pd.DataFrame(data)\n",
    "    \n",
    "    j = 0\n",
    "    for i in range(len(clean_dfs[k]) - 1):\n",
    "        while j < upperbound and df2['Reaction Time'][j] <= clean_dfs[k]['Reaction Time'][i + 1]:\n",
    "            df2['Response'][j] = clean_dfs[k]['Response'][i]\n",
    "            j += 1\n",
    "    modified_dfs.append(df2)"
   ]
  },
  {
   "cell_type": "code",
   "execution_count": 35,
   "id": "5f6abce0",
   "metadata": {},
   "outputs": [
    {
     "data": {
      "text/plain": [
       "61"
      ]
     },
     "execution_count": 35,
     "metadata": {},
     "output_type": "execute_result"
    }
   ],
   "source": []
  },
  {
   "cell_type": "code",
   "execution_count": 36,
   "id": "aa1a703a",
   "metadata": {},
   "outputs": [],
   "source": [
    "all_reaction_times = []\n",
    "all_responses = []\n",
    "for df in modified_dfs:\n",
    "    for i in range(len(df)):\n",
    "        all_reaction_times.append(df['Reaction Time'][i])\n",
    "        all_responses.append(df['Response'][i])"
   ]
  },
  {
   "cell_type": "code",
   "execution_count": 37,
   "id": "f15592f3",
   "metadata": {},
   "outputs": [],
   "source": [
    "data = {'Reaction Time': all_reaction_times,\n",
    "       'Response': all_responses}"
   ]
  },
  {
   "cell_type": "code",
   "execution_count": 38,
   "id": "e550d1c4",
   "metadata": {},
   "outputs": [],
   "source": [
    "final_df = pd.DataFrame(data)"
   ]
  },
  {
   "cell_type": "code",
   "execution_count": 39,
   "id": "d2afbfc5",
   "metadata": {},
   "outputs": [
    {
     "data": {
      "text/plain": [
       "<AxesSubplot:xlabel='Reaction Time', ylabel='Response'>"
      ]
     },
     "execution_count": 39,
     "metadata": {},
     "output_type": "execute_result"
    },
    {
     "data": {
      "image/png": "[encoded data removed]",
      "text/plain": [
       "<Figure size 432x288 with 1 Axes>"
      ]
     },
     "metadata": {
      "needs_background": "light"
     },
     "output_type": "display_data"
    }
   ],
   "source": [
    "sns.lineplot(data=final_df, x='Reaction Time',\n",
    "    y='Response')"
   ]
  },
  {
   "cell_type": "code",
   "execution_count": null,
   "id": "d088fc0f",
   "metadata": {},
   "outputs": [],
   "source": [
    "# turn this into a script with comments\n",
    "# average for every time point - save as .csv\n",
    "# histogram of end Reaction Times of each trial "
   ]
  },
  {
   "cell_type": "code",
   "execution_count": 40,
   "id": "234e1ae9",
   "metadata": {},
   "outputs": [],
   "source": [
    "list_of_zeros = [0] * (int(upperbound))\n",
    "data = {'Reaction Time': range(0, int(upperbound)),\n",
    "           'Response':  list_of_zeros}\n",
    "avg_df = pd.DataFrame(data)"
   ]
  },
  {
   "cell_type": "code",
   "execution_count": 45,
   "id": "0500ae68",
   "metadata": {},
   "outputs": [],
   "source": [
    "for i in range(upperbound):\n",
    "    response_sum = 0\n",
    "    for df in modified_dfs:\n",
    "        response_sum += df['Response'][i]\n",
    "    avg_df['Response'][i] = response_sum * 1.0 / len(modified_dfs)"
   ]
  },
  {
   "cell_type": "code",
   "execution_count": 46,
   "id": "4e5caeca",
   "metadata": {},
   "outputs": [],
   "source": [
    "avg_df.to_csv(r'average_responses.csv')"
   ]
  },
  {
   "cell_type": "code",
   "execution_count": 47,
   "id": "ca0f6850",
   "metadata": {},
   "outputs": [
    {
     "data": {
      "text/html": [
       "<div>\n",
       "<style scoped>\n",
       "    .dataframe tbody tr th:only-of-type {\n",
       "        vertical-align: middle;\n",
       "    }\n",
       "\n",
       "    .dataframe tbody tr th {\n",
       "        vertical-align: top;\n",
       "    }\n",
       "\n",
       "    .dataframe thead th {\n",
       "        text-align: right;\n",
       "    }\n",
       "</style>\n",
       "<table border=\"1\" class=\"dataframe\">\n",
       "  <thead>\n",
       "    <tr style=\"text-align: right;\">\n",
       "      <th></th>\n",
       "      <th>Reaction Time</th>\n",
       "      <th>Response</th>\n",
       "    </tr>\n",
       "  </thead>\n",
       "  <tbody>\n",
       "    <tr>\n",
       "      <th>0</th>\n",
       "      <td>0</td>\n",
       "      <td>0</td>\n",
       "    </tr>\n",
       "    <tr>\n",
       "      <th>1</th>\n",
       "      <td>1</td>\n",
       "      <td>0</td>\n",
       "    </tr>\n",
       "    <tr>\n",
       "      <th>2</th>\n",
       "      <td>2</td>\n",
       "      <td>0</td>\n",
       "    </tr>\n",
       "    <tr>\n",
       "      <th>3</th>\n",
       "      <td>3</td>\n",
       "      <td>0</td>\n",
       "    </tr>\n",
       "    <tr>\n",
       "      <th>4</th>\n",
       "      <td>4</td>\n",
       "      <td>0</td>\n",
       "    </tr>\n",
       "    <tr>\n",
       "      <th>...</th>\n",
       "      <td>...</td>\n",
       "      <td>...</td>\n",
       "    </tr>\n",
       "    <tr>\n",
       "      <th>1250</th>\n",
       "      <td>1250</td>\n",
       "      <td>33</td>\n",
       "    </tr>\n",
       "    <tr>\n",
       "      <th>1251</th>\n",
       "      <td>1251</td>\n",
       "      <td>35</td>\n",
       "    </tr>\n",
       "    <tr>\n",
       "      <th>1252</th>\n",
       "      <td>1252</td>\n",
       "      <td>44</td>\n",
       "    </tr>\n",
       "    <tr>\n",
       "      <th>1253</th>\n",
       "      <td>1253</td>\n",
       "      <td>45</td>\n",
       "    </tr>\n",
       "    <tr>\n",
       "      <th>1254</th>\n",
       "      <td>1254</td>\n",
       "      <td>45</td>\n",
       "    </tr>\n",
       "  </tbody>\n",
       "</table>\n",
       "<p>1255 rows × 2 columns</p>\n",
       "</div>"
      ],
      "text/plain": [
       "      Reaction Time  Response\n",
       "0                 0         0\n",
       "1                 1         0\n",
       "2                 2         0\n",
       "3                 3         0\n",
       "4                 4         0\n",
       "...             ...       ...\n",
       "1250           1250        33\n",
       "1251           1251        35\n",
       "1252           1252        44\n",
       "1253           1253        45\n",
       "1254           1254        45\n",
       "\n",
       "[1255 rows x 2 columns]"
      ]
     },
     "execution_count": 47,
     "metadata": {},
     "output_type": "execute_result"
    }
   ],
   "source": [
    "avg_df"
   ]
  },
  {
   "cell_type": "code",
   "execution_count": null,
   "id": "d652e03c",
   "metadata": {},
   "outputs": [],
   "source": []
  }
 ],
 "metadata": {
  "kernelspec": {
   "display_name": "Python 3",
   "language": "python",
   "name": "python3"
  },
  "language_info": {
   "codemirror_mode": {
    "name": "ipython",
    "version": 3
   },
   "file_extension": ".py",
   "mimetype": "text/x-python",
   "name": "python",
   "nbconvert_exporter": "python",
   "pygments_lexer": "ipython3",
   "version": "3.7.6"
  }
 },
 "nbformat": 4,
 "nbformat_minor": 5
}
